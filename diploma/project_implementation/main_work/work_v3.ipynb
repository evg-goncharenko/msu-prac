{
  "cells": [
    {
      "cell_type": "code",
      "execution_count": 1,
      "metadata": {},
      "outputs": [
        {
          "name": "stdout",
          "output_type": "stream",
          "text": [
            "Is CUDA enabled? False\n"
          ]
        }
      ],
      "source": [
        "import torch\n",
        "print(\"Is CUDA enabled?\",torch.cuda.is_available())"
      ]
    },
    {
      "cell_type": "code",
      "execution_count": 2,
      "metadata": {
        "colab": {
          "base_uri": "https://localhost:8080/"
        },
        "id": "NjEH-ZpRzcrk",
        "outputId": "4cf64c0a-9ac7-47e7-ff72-d1096f4dbe30"
      },
      "outputs": [
        {
          "name": "stdout",
          "output_type": "stream",
          "text": [
            "Количество вопросов:  31141\n",
            "Количество ответов:  31141\n"
          ]
        }
      ],
      "source": [
        "import ijson\n",
        "import os\n",
        "from setuptools import setup\n",
        "\n",
        "def parse_large_json(file_path):\n",
        "    # Открытие файла для потоковой обработки\n",
        "    answ_list = []\n",
        "\n",
        "    with open(file_path, 'rb') as file:\n",
        "        # Потоковая обработка элементов JSON\n",
        "        parser = ijson.parse(file)\n",
        "\n",
        "        for prefix, event, value in parser:\n",
        "            # тут нас интересуют элементы списков в json и событие по нахождению какого-либо ключа в этом списке\n",
        "            if prefix.endswith('.item') and event == 'map_key':\n",
        "                # заготовка под объект json, который будем строить\n",
        "                json_object = {}\n",
        "                # пока в текущем списке есть элементы, будем их анализировать\n",
        "\n",
        "                while event == 'map_key':\n",
        "                    # ijson идет итеративно по ключам и значениям\n",
        "                    # поэтому сначала сохраняем уже полученный ключ,\n",
        "                    # а потом запускаем следующую итерацию для получения значения\n",
        "                    key = value\n",
        "                    _, _, value = next(parser)\n",
        "                        \n",
        "\n",
        "                    answ_list.append(value)\n",
        "                    json_object[key] = value\n",
        "                    # для продолжения нашего while нам нужно снова перейти на следующий ключ списка\n",
        "                    # поэтому в этой итерации мы специально сеттим event (там как раз будет map_key)\n",
        "                    prefix, event, value = next(parser)\n",
        "\n",
        "                # с построенным объектом json можем делать что угодно, тут мы сверяем его с фильтром и записываем\n",
        "\n",
        "    return answ_list\n",
        "\n",
        "# full_dir - полный путь до json файлов\n",
        "full_dir = os.path.dirname(os.path.realpath('__file__'))\n",
        "\n",
        "answers = parse_large_json(full_dir + '/answers.json')\n",
        "questions = parse_large_json(full_dir + '/questions.json')\n",
        "\n",
        "print('Количество вопросов: ', len(questions))\n",
        "print('Количество ответов: ', len(answers))\n"
      ]
    },
    {
      "cell_type": "markdown",
      "metadata": {
        "id": "w4T8AwvmyaS2"
      },
      "source": [
        "\n",
        "\n",
        "### Разбиение данных"
      ]
    },
    {
      "cell_type": "code",
      "execution_count": 3,
      "metadata": {},
      "outputs": [
        {
          "name": "stdout",
          "output_type": "stream",
          "text": [
            "Количество вопросов на обучение:  96 в  259 чанков\n",
            "Количество ответов на обучение:  96 в  259 чанков\n",
            "Количество вопросов на валидацию:  25 в  259 чанков\n",
            "Количество ответов на валидацию:  25 в  259 чанков\n"
          ]
        }
      ],
      "source": [
        "from sklearn.model_selection import train_test_split\n",
        "import numpy as np\n",
        "\n",
        "# chunk_size = 2831 # разбиваем наши вопросы/ответы на 11 равных частей\n",
        "# chunk_size = 149 # разбиваем наши вопросы/ответы на 209 равных частей\n",
        "chunk_size = 120 # разбиваем наши вопросы/ответы на 520 частей\n",
        "questions_chunks = np.array_split(questions, len(questions) // chunk_size)\n",
        "answers_chunks = np.array_split(answers, len(answers) // chunk_size)\n",
        "\n",
        "questions_train = []\n",
        "questions_val = []\n",
        "answers_train = []\n",
        "answers_val = []\n",
        "\n",
        "# Разбиение датасета на обучающий и валидационный наборы\n",
        "# В этом примере `test_size=0.1` указывает, что 10% данных будут использоваться для валидации, а оставшиеся 90% — для обучения. `random_state` обеспечивает воспроизводимость разбиения\n",
        "\n",
        "for i in range(len(questions_chunks)):\n",
        "    questions_train_chunk, questions_val_chunk, answers_train_chunk, answers_val_chunk = train_test_split(\n",
        "        questions_chunks[i], answers_chunks[i], test_size=0.2, random_state=42\n",
        "    )\n",
        "    questions_train.append(questions_train_chunk)\n",
        "    questions_val.append(questions_val_chunk)\n",
        "    answers_train.append(answers_train_chunk)\n",
        "    answers_val.append(answers_val_chunk)\n",
        "\n",
        "# Создаем список меток, 0 или 1, в зависимости от того, насколько хорошо ответ соответствует вопросу\n",
        "labels_list = [1] * len(questions_chunks[0]) # по умолчанию считаем, что все ответы соответствуют вопросу\n",
        "\n",
        "print('Количество вопросов на обучение: ', len(questions_train[0]), 'в ', len(questions_chunks) , 'чанков')\n",
        "print('Количество ответов на обучение: ', len(answers_train[0]), 'в ', len(answers_chunks) , 'чанков')\n",
        "\n",
        "print('Количество вопросов на валидацию: ', len(questions_val[0]), 'в ', len(questions_chunks) , 'чанков')\n",
        "print('Количество ответов на валидацию: ', len(answers_val[0]), 'в ', len(answers_chunks) , 'чанков')"
      ]
    },
    {
      "cell_type": "markdown",
      "metadata": {},
      "source": [
        "Чтобы получить train_dataloader и val_dataloader для обучения и валидации модели BERT мы подготавливаем данные, токенизируем их и обварачиваем в DataLoader объекты из PyTorch. DataLoader позволяет итерировать по датасету с заданным размером батча.\n",
        "\n",
        "### Подготовка и токенизация данных\n",
        "\n",
        "Для начала токенизируем вопросы и ответы. Заготовленные данные questions_train, answers_train, questions_val, и answers_val у нас уже есть.\n"
      ]
    },
    {
      "cell_type": "code",
      "execution_count": 4,
      "metadata": {},
      "outputs": [],
      "source": [
        "from transformers import BertTokenizer\n",
        "from torch.utils.data import TensorDataset, DataLoader, RandomSampler, SequentialSampler\n",
        "\n",
        "tokenizer = BertTokenizer.from_pretrained('bert-base-uncased')\n",
        "\n",
        "def encode_questions_answers(questions, answers, tokenizer, max_length=512):\n",
        "    input_ids = []\n",
        "    attention_masks = []\n",
        "\n",
        "    for question, answer in zip(questions, answers):\n",
        "        encoded_dict = tokenizer.encode_plus(\n",
        "            text=question,  # Вопрос для кодирования\n",
        "            text_pair=answer,  # Ответ для кодирования\n",
        "            add_special_tokens=True,  # Добавление '[CLS]' и '[SEP]'\n",
        "            max_length=max_length,  # Ограничение длины входных данных\n",
        "            padding='max_length', # Добавление паддинга до max_length\n",
        "            return_attention_mask=True,  # Возврат маски внимания\n",
        "            return_tensors='pt',  # Возврат pytorch тензоров\n",
        "        )\n",
        "        \n",
        "        input_ids.append(encoded_dict['input_ids'])\n",
        "        attention_masks.append(encoded_dict['attention_mask'])\n",
        "\n",
        "    input_ids = torch.cat(input_ids, dim=0)\n",
        "    attention_masks = torch.cat(attention_masks, dim=0)\n",
        "\n",
        "    return input_ids, attention_masks\n",
        "\n",
        "# Кодирование данных обучения и валидации\n",
        "input_ids_train, attention_masks_train = encode_questions_answers(questions_train[0], answers_train[0], tokenizer)\n",
        "input_ids_val, attention_masks_val = encode_questions_answers(questions_val[0], answers_val[0], tokenizer)\n"
      ]
    },
    {
      "cell_type": "markdown",
      "metadata": {},
      "source": [
        "### Важные моменты:\n",
        "\n",
        "- Указываем max_length в encode_plus, соответствующую ограничениям нашей модели (например, 512 для BERT).\n",
        "- Если нет меток (labels_train и labels_val), то необходимо их создать в соответствии с задачей (например, классификация или вопросно-ответная система).\n",
        "- Размер батча (batch_size) можно настроить в зависимости от объема доступной памяти на устройстве. Больший размер батча ускоряет обучение, но требует больше памяти.\n",
        "\n",
        "С этими DataLoader объектами можно выполнять обучение модели"
      ]
    },
    {
      "cell_type": "markdown",
      "metadata": {},
      "source": [
        "- num_workers определяет количество процессов для параллельной загрузки данных. Увеличение этого значения может ускорить подготовку данных, но требует больше ресурсов CPU.\n",
        "- pin_memory позволяет DataLoader помещать тензоры непосредственно в область памяти, которая будет \"закреплена\" (pinned), что ускоряет их последующую передачу на GPU.\n"
      ]
    },
    {
      "cell_type": "code",
      "execution_count": 5,
      "metadata": {},
      "outputs": [],
      "source": [
        "def flat_accuracy(preds, labels):\n",
        "    pred_flat = torch.argmax(preds, dim=1).flatten()\n",
        "    labels_flat = labels.flatten()\n",
        "    return torch.sum(pred_flat == labels_flat).item() / len(labels_flat)"
      ]
    },
    {
      "cell_type": "markdown",
      "metadata": {},
      "source": [
        "### Получение значений потерь и точности\n",
        "\n",
        "Чтобы получить значения потерь и точности (или других метрик) на этапах обучения и валидации, нам нужно вычислить их по окончании каждой эпохи обучения.\n"
      ]
    },
    {
      "cell_type": "markdown",
      "metadata": {},
      "source": [
        "Цикл по эпохам обучения, где мы будем вычислять потери и точность на обучающем и валидационном наборах данных:\n"
      ]
    },
    {
      "cell_type": "code",
      "execution_count": 6,
      "metadata": {},
      "outputs": [],
      "source": [
        "import torch\n",
        "import torch.nn as nn\n",
        "from torch.utils.data import DataLoader\n",
        "from transformers import BertForSequenceClassification, BertTokenizer, AdamW\n",
        "from sklearn.metrics import accuracy_score\n",
        "\n",
        "\n",
        "# Задание параметров\n",
        "batch_size = 64\n",
        "num_epochs = 12\n",
        "learning_rate = 1e-5\n",
        "\n",
        "device = torch.device('cuda' if torch.cuda.is_available() else 'cpu')\n",
        "\n",
        "class QADataset(torch.utils.data.Dataset):\n",
        "    def __init__(self, questions, answers, tokenizer, labels=None, max_length=512):\n",
        "        self.questions = questions\n",
        "        self.answers = answers\n",
        "        self.tokenizer = tokenizer\n",
        "        self.labels = labels\n",
        "        self.max_length = max_length\n",
        "\n",
        "    def __len__(self):\n",
        "        return len(self.questions)\n",
        "\n",
        "    def __getitem__(self, idx):\n",
        "        encoding = self.tokenizer.encode_plus(\n",
        "            self.questions[idx],\n",
        "            self.answers[idx],\n",
        "            add_special_tokens=True,\n",
        "            max_length=self.max_length,\n",
        "            padding='max_length',\n",
        "            truncation=True,\n",
        "            return_tensors='pt'\n",
        "        )\n",
        "\n",
        "        item = {\n",
        "            'input_ids': encoding['input_ids'].flatten(),\n",
        "            'attention_mask': encoding['attention_mask'].flatten()\n",
        "        }\n",
        "\n",
        "        if self.labels:\n",
        "            item['labels'] = torch.tensor(self.labels[idx])\n",
        "\n",
        "        return item\n",
        "\n",
        "# Определение модели\n",
        "class BertClassifier(nn.Module):\n",
        "    def __init__(self):\n",
        "        super(BertClassifier, self).__init__()\n",
        "        self.bert = BertForSequenceClassification.from_pretrained('bert-base-uncased')\n",
        "        self.dropout = nn.Dropout(0.1)  \n",
        "        self.classifier = nn.Linear(self.bert.config.num_labels, 2)\n",
        "\n",
        "    def forward(self, input_ids, attention_mask):\n",
        "        outputs = self.bert(input_ids=input_ids, attention_mask=attention_mask)\n",
        "        logits = outputs.logits\n",
        "        logits = self.dropout(logits)\n",
        "        logits = self.classifier(logits)\n",
        "        return logits"
      ]
    },
    {
      "cell_type": "code",
      "execution_count": 7,
      "metadata": {},
      "outputs": [
        {
          "name": "stderr",
          "output_type": "stream",
          "text": [
            "Some weights of BertForSequenceClassification were not initialized from the model checkpoint at bert-base-uncased and are newly initialized: ['classifier.bias', 'classifier.weight']\n",
            "You should probably TRAIN this model on a down-stream task to be able to use it for predictions and inference.\n",
            "/usr/local/lib/python3.9/site-packages/transformers/optimization.py:457: FutureWarning: This implementation of AdamW is deprecated and will be removed in a future version. Use the PyTorch implementation torch.optim.AdamW instead, or set `no_deprecation_warning=True` to disable this warning\n",
            "  warnings.warn(\n",
            "/usr/local/lib/python3.9/site-packages/transformers/optimization.py:457: FutureWarning: This implementation of AdamW is deprecated and will be removed in a future version. Use the PyTorch implementation torch.optim.AdamW instead, or set `no_deprecation_warning=True` to disable this warning\n",
            "  warnings.warn(\n"
          ]
        }
      ],
      "source": [
        "tokenizer = BertTokenizer.from_pretrained('bert-base-uncased')\n",
        "\n",
        "train_dataset = QADataset(questions_train[0], answers_train[0], tokenizer, labels_list)\n",
        "val_dataset = QADataset(questions_val[0], answers_val[0], tokenizer, labels_list)\n",
        "\n",
        "train_dataloader = DataLoader(train_dataset, batch_size=batch_size, shuffle=True)\n",
        "val_dataloader = DataLoader(val_dataset, batch_size=batch_size, shuffle=True)\n",
        "\n",
        "# Инициализация модели, токенизатора и оптимизатора\n",
        "model = BertClassifier().to(device)\n",
        "tokenizer = BertTokenizer.from_pretrained('bert-base-uncased')\n",
        "# Уменьшение скорости обучения\n",
        "optimizer = AdamW(model.parameters(), lr=1e-5)\n",
        "# Добавление L2-регуляризации\n",
        "weight_decay = 0.01\n",
        "optimizer = AdamW(model.parameters(), lr=1e-5, weight_decay=weight_decay)\n"
      ]
    },
    {
      "cell_type": "code",
      "execution_count": 8,
      "metadata": {},
      "outputs": [],
      "source": [
        "total_train_losses, total_val_losses, total_train_accuracies, total_val_accuracies = [], [], [], [] # инициализация списков для хранения метрик"
      ]
    },
    {
      "cell_type": "code",
      "execution_count": 9,
      "metadata": {},
      "outputs": [],
      "source": [
        "# Функция для обучения модели\n",
        "def train_model(model, train_dataloader, val_dataloader, optimizer, num_epochs):\n",
        "    for epoch in range(num_epochs):\n",
        "        model.train()\n",
        "        train_losses = []\n",
        "        train_predictions = []\n",
        "        train_targets = []\n",
        "\n",
        "        for batch in train_dataloader:\n",
        "            optimizer.zero_grad()\n",
        "            input_ids = batch['input_ids'].to(device)\n",
        "            attention_mask = batch['attention_mask'].to(device)\n",
        "            labels = batch['labels'].to(device)\n",
        "\n",
        "            outputs = model(input_ids, attention_mask)\n",
        "            loss = nn.CrossEntropyLoss()(outputs, labels)\n",
        "            loss.backward()\n",
        "            optimizer.step()\n",
        "\n",
        "            train_losses.append(loss.item())\n",
        "            train_predictions.extend(torch.argmax(outputs, axis=1).tolist())\n",
        "            train_targets.extend(labels.tolist())\n",
        "\n",
        "        train_accuracy = accuracy_score(train_targets, train_predictions)\n",
        "        avg_train_loss = sum(train_losses) / len(train_losses)\n",
        "\n",
        "        model.eval()\n",
        "        val_losses = []\n",
        "        val_predictions = []\n",
        "        val_targets = []\n",
        "\n",
        "        with torch.no_grad():\n",
        "            for batch in val_dataloader:\n",
        "                input_ids = batch['input_ids'].to(device)\n",
        "                attention_mask = batch['attention_mask'].to(device)\n",
        "                labels = batch['labels'].to(device)\n",
        "\n",
        "                outputs = model(input_ids, attention_mask)\n",
        "                loss = nn.CrossEntropyLoss()(outputs, labels)\n",
        "\n",
        "                val_losses.append(loss.item())\n",
        "                val_predictions.extend(torch.argmax(outputs, axis=1).tolist())\n",
        "                val_targets.extend(labels.tolist())\n",
        "\n",
        "        val_accuracy = accuracy_score(val_targets, val_predictions)\n",
        "        avg_val_loss = sum(val_losses) / len(val_losses)\n",
        "\n",
        "        print(f'Epoch {epoch+1}/{num_epochs}, Train Loss: {avg_train_loss:.4f}, Train Accuracy: {train_accuracy:.4f}, Validation Loss: {avg_val_loss:.4f}, Validation Accuracy: {val_accuracy:.4f}')\n",
        "        total_train_losses.append(avg_train_loss)\n",
        "        total_val_losses.append(avg_val_loss)\n",
        "        total_train_accuracies.append(train_accuracy)\n",
        "        total_val_accuracies.append(val_accuracy)\n"
      ]
    },
    {
      "cell_type": "code",
      "execution_count": 10,
      "metadata": {},
      "outputs": [
        {
          "name": "stdout",
          "output_type": "stream",
          "text": [
            "Epoch 1/12, Train Loss: 0.6859, Train Accuracy: 0.4062, Validation Loss: 0.4998, Validation Accuracy: 1.0000\n",
            "Epoch 2/12, Train Loss: 0.4562, Train Accuracy: 0.9896, Validation Loss: 0.3507, Validation Accuracy: 1.0000\n",
            "Epoch 3/12, Train Loss: 0.3410, Train Accuracy: 1.0000, Validation Loss: 0.3185, Validation Accuracy: 1.0000\n",
            "Epoch 4/12, Train Loss: 0.3274, Train Accuracy: 1.0000, Validation Loss: 0.2901, Validation Accuracy: 1.0000\n",
            "Epoch 5/12, Train Loss: 0.2826, Train Accuracy: 1.0000, Validation Loss: 0.2583, Validation Accuracy: 1.0000\n",
            "Epoch 6/12, Train Loss: 0.2640, Train Accuracy: 1.0000, Validation Loss: 0.2204, Validation Accuracy: 1.0000\n",
            "Epoch 7/12, Train Loss: 0.2025, Train Accuracy: 1.0000, Validation Loss: 0.1737, Validation Accuracy: 1.0000\n",
            "Epoch 8/12, Train Loss: 0.1701, Train Accuracy: 1.0000, Validation Loss: 0.1318, Validation Accuracy: 1.0000\n",
            "Epoch 9/12, Train Loss: 0.1495, Train Accuracy: 1.0000, Validation Loss: 0.1152, Validation Accuracy: 1.0000\n",
            "Epoch 10/12, Train Loss: 0.1394, Train Accuracy: 1.0000, Validation Loss: 0.0916, Validation Accuracy: 1.0000\n",
            "Epoch 11/12, Train Loss: 0.0977, Train Accuracy: 1.0000, Validation Loss: 0.0880, Validation Accuracy: 1.0000\n",
            "Epoch 12/12, Train Loss: 0.0961, Train Accuracy: 1.0000, Validation Loss: 0.0750, Validation Accuracy: 1.0000\n"
          ]
        }
      ],
      "source": [
        "# Обучение модели\n",
        "train_model(model, train_dataloader, val_dataloader, optimizer, num_epochs)"
      ]
    },
    {
      "cell_type": "code",
      "execution_count": 11,
      "metadata": {
        "id": "0UAXaCBwyP-l"
      },
      "outputs": [],
      "source": [
        "def prepare_encodings(tokenizer, question, answer, device, max_length=512):\n",
        "    # Объединяем вопрос и ответ в одну последовательность\n",
        "    encoding = tokenizer.encode_plus(\n",
        "        question,\n",
        "        answer,\n",
        "        add_special_tokens=True, # Добавляет токены [CLS] и [SEP]\n",
        "        max_length=max_length,\n",
        "        padding='max_length',\n",
        "        truncation=True,\n",
        "        return_attention_mask=True,\n",
        "        return_tensors='pt',\n",
        "    )\n",
        "    return encoding.to(device)"
      ]
    },
    {
      "cell_type": "markdown",
      "metadata": {},
      "source": [
        "1. Использование logits для оценки релевантности: для модели классификации `logits` будет содержать значения для каждого класса. Мы можем интерпретировать эти значения как меру уверенности модели в том, что пара вопрос-ответ принадлежит к определенному классу (например, классу \"релевантный\" и \"нерелевантный\").\n",
        "\n",
        "2. Выбор класса и использование софтмакса для преобразования logits в вероятности: применение функции софтмакс к logits дает нам вероятности принадлежности к каждому классу.\n"
      ]
    },
    {
      "cell_type": "code",
      "execution_count": 12,
      "metadata": {},
      "outputs": [],
      "source": [
        "def find_most_relevant_answer(model, tokenizer, question, answers, device):\n",
        "    model.eval()\n",
        "    model.to(device)\n",
        "    \n",
        "    max_relevance = float('-inf')\n",
        "    most_relevant_answer = \"\"\n",
        "    \n",
        "    for answer in answers:\n",
        "        inputs = tokenizer.encode_plus(question, answer, return_tensors=\"pt\", padding=True, truncation=True, max_length=512).to(device)\n",
        "        with torch.no_grad():\n",
        "            outputs = model(**inputs)\n",
        "        \n",
        "        logits = outputs.logits\n",
        "        # Применяем софтмакс для получения вероятностей\n",
        "        probs = F.softmax(logits, dim=1)\n",
        "        # Предполагаем, что класс 1 соответствует \"релевантности\"\n",
        "        relevance = probs[:, 1]  # выбираем вероятность класса \"релевантный\"\n",
        "        \n",
        "        if relevance > max_relevance:\n",
        "            max_relevance = relevance\n",
        "            most_relevant_answer = answer\n",
        "            \n",
        "    return most_relevant_answer"
      ]
    },
    {
      "cell_type": "code",
      "execution_count": 13,
      "metadata": {},
      "outputs": [],
      "source": [
        "# # Наши записанные ответы в answers:\n",
        "# print(\"Записанные ответы:\", answers)\n",
        "\n",
        "# # Наши записанные вопросы в answers:\n",
        "# print(\"Записанные вопросы:\", questions)\n",
        "\n",
        "# validation_questions = [\"При каких обстоятельствах возникает исключение IndexError?\", \n",
        "#                         \"Когда возникает исключение NotImplementedError?\",\n",
        "#                         \"Как проверить, что один кортеж содержит все элементы другого кортежа?\",\n",
        "#                         \"Чувствителен ли Python к регистру?\",\n",
        "#                         \"Что такое модули Python?\",\n",
        "#                         \"Объясните, что означает «self» в Python.\"]\n",
        "\n",
        "\n",
        "# for question in validation_questions:\n",
        "#     most_relevant_answer = find_most_relevant_answer(model, tokenizer, question, answers, device)\n",
        "#     print(\"Задаваемый вопрос: \", question)\n",
        "#     print(\" Ответ: \", most_relevant_answer, \"\\n\")"
      ]
    },
    {
      "cell_type": "markdown",
      "metadata": {
        "id": "dIju1W9jye5s"
      },
      "source": [
        "\n",
        "\n",
        "### Построение графиков потерь и точности\n"
      ]
    },
    {
      "cell_type": "code",
      "execution_count": 14,
      "metadata": {
        "id": "UEaNhwjkyfkZ"
      },
      "outputs": [
        {
          "data": {
            "image/png": "[encoded data removed]",
            "text/plain": [
              "<Figure size 864x432 with 2 Axes>"
            ]
          },
          "metadata": {
            "needs_background": "light"
          },
          "output_type": "display_data"
        }
      ],
      "source": [
        "import matplotlib.pyplot as plt\n",
        "from IPython.display import clear_output\n",
        "\n",
        "# train_losses = []  # Список для хранения значений потерь на обучающем наборе\n",
        "# val_losses = []  # Список для хранения значений потерь на валидационном наборе\n",
        "# train_accuracies = []  # Список для хранения значений точности на обучающем наборе\n",
        "# val_accuracies = []  # Список для хранения значений точности на валидационном наборе\n",
        "\n",
        "\n",
        "for epoch in range(num_epochs):\n",
        "    clear_output(wait=True)\n",
        "    plt.figure(figsize=(12, 6))\n",
        "\n",
        "    # График потерь\n",
        "    plt.subplot(1, 2, 1)\n",
        "    plt.plot(total_train_losses, label='Training Loss')\n",
        "    plt.plot(total_val_losses, label='Validation Loss')\n",
        "    plt.title('Epoch: {}/{}'.format(epoch + 1, num_epochs))\n",
        "    plt.xlabel('Epochs')\n",
        "    plt.ylabel('Loss')\n",
        "    plt.legend()\n",
        "\n",
        "    # График точности\n",
        "    plt.subplot(1, 2, 2)\n",
        "    plt.plot(total_train_accuracies, label='Training Accuracy')\n",
        "    plt.plot(total_val_accuracies, label='Validation Accuracy')\n",
        "    plt.xlabel('Epochs')\n",
        "    plt.ylabel('Accuracy')\n",
        "    plt.legend()\n",
        "\n",
        "    plt.tight_layout()\n",
        "    plt.show()\n"
      ]
    }
  ],
  "metadata": {
    "accelerator": "GPU",
    "colab": {
      "gpuType": "T4",
      "provenance": []
    },
    "kernelspec": {
      "display_name": "Python 3",
      "name": "python3"
    },
    "language_info": {
      "codemirror_mode": {
        "name": "ipython",
        "version": 3
      },
      "file_extension": ".py",
      "mimetype": "text/x-python",
      "name": "python",
      "nbconvert_exporter": "python",
      "pygments_lexer": "ipython3",
      "version": "3.9.16"
    }
  },
  "nbformat": 4,
  "nbformat_minor": 0
}
